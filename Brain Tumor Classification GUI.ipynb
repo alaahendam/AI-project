{
 "cells": [
  {
   "cell_type": "code",
   "execution_count": null,
   "metadata": {},
   "outputs": [],
   "source": []
  },
  {
   "cell_type": "code",
   "execution_count": 70,
   "metadata": {},
   "outputs": [],
   "source": [
    "from tkinter import *\n",
    "from PIL import Image\n",
    "from PIL import ImageTk\n",
    "from tkinter import filedialog\n",
    "import cv2\n",
    "count =0\n",
    "def select_image():\n",
    "        global fpath\n",
    "        global count\n",
    "        global panelA\n",
    "        if count > 0 :\n",
    "            dis()\n",
    "            count -=1\n",
    "        path = filedialog.askopenfilename()\n",
    "        if len(path) > 0:\n",
    "            image = cv2.imread(path)\n",
    "            image = cv2.resize(image, (360,360))\n",
    "            image = cv2.cvtColor(image, cv2.COLOR_BGR2RGB)\n",
    "            image = Image.fromarray(image)\n",
    "            image = ImageTk.PhotoImage(image)\n",
    "            panelA = Label(image=image)\n",
    "            panelA.image = image           \n",
    "            panelA.pack(side=\"left\", padx=10, pady=10)\n",
    "            fpath = path\n",
    "            count +=1\n",
    "        \n",
    "            \n",
    "            "
   ]
  },
  {
   "cell_type": "code",
   "execution_count": null,
   "metadata": {},
   "outputs": [],
   "source": []
  },
  {
   "cell_type": "code",
   "execution_count": 57,
   "metadata": {},
   "outputs": [],
   "source": []
  },
  {
   "cell_type": "code",
   "execution_count": 76,
   "metadata": {},
   "outputs": [],
   "source": [
    "import tkinter.font as font\n",
    "def close_window():\n",
    "    root.destroy()\n",
    "root = Tk(className='Brain Tumor Classification')\n",
    "root.geometry(\"720x500\")\n",
    "menu = Menu(root) \n",
    "root.config(menu=menu) \n",
    "filemenu = Menu(menu) \n",
    "menu.add_cascade(label='File', menu=filemenu) \n",
    "filemenu.add_command(label='New') \n",
    "filemenu.add_command(label='Open...') \n",
    "filemenu.add_separator() \n",
    "filemenu.add_command(label='Exit', command=dis) \n",
    "helpmenu = Menu(menu) \n",
    "menu.add_cascade(label='Help', menu=helpmenu) \n",
    "helpmenu.add_command(label='About')\n",
    "\n",
    "myFont = font.Font(family='Courier', size=18, weight='bold')\n",
    "exit = Button(root, text=\"EXIT\", bg='#FF3333', fg='#ffffff' ,command=close_window)\n",
    "exit.pack(side=\"bottom\" , fill=\"both\", padx=\"10\", pady=\"0\")\n",
    "show = Button(root, text=\"Diagnosis Of Cancer\", bg='#0052cc', fg='#ffffff' , command=show_result)\n",
    "show.pack(side=\"bottom\" , fill=\"both\", padx=\"10\", pady=\"0\")\n",
    "Select = Button(root, text=\"Select an Image\" , bg='#0052cc', fg='#ffffff', command=select_image)\n",
    "Select.pack(side=\"bottom\" , fill=\"both\", padx=\"10\", pady=\"0\")\n",
    "\n",
    "exit['font'] = myFont\n",
    "show['font'] = myFont\n",
    "Select['font'] = myFont\n",
    "\n",
    "# kick off the GUI\n",
    "root.mainloop()"
   ]
  },
  {
   "cell_type": "code",
   "execution_count": 64,
   "metadata": {},
   "outputs": [],
   "source": [
    "def show_result():\n",
    "        global label\n",
    "        myFont = font.Font(family='Courier', size=23, weight='bold')\n",
    "        \n",
    "        var = \"unfortunately\\n\"+ \"this is \\n\"+predict(fpath)+\"\\n Tumor\"\n",
    "        label = Label(root, text=var , fg='#005180',padx=\"30\")\n",
    "        label.pack(side =\"right\")\n",
    "        label['font'] = myFont\n",
    "        "
   ]
  },
  {
   "cell_type": "code",
   "execution_count": 59,
   "metadata": {},
   "outputs": [],
   "source": [
    "def dis():\n",
    "    label.pack_forget()\n",
    "    panelA.pack_forget()"
   ]
  },
  {
   "cell_type": "code",
   "execution_count": null,
   "metadata": {},
   "outputs": [],
   "source": []
  },
  {
   "cell_type": "code",
   "execution_count": 1,
   "metadata": {},
   "outputs": [
    {
     "name": "stderr",
     "output_type": "stream",
     "text": [
      "Using TensorFlow backend.\n"
     ]
    }
   ],
   "source": [
    "import keras"
   ]
  },
  {
   "cell_type": "code",
   "execution_count": 2,
   "metadata": {},
   "outputs": [],
   "source": [
    "from keras.models import load_model"
   ]
  },
  {
   "cell_type": "code",
   "execution_count": 3,
   "metadata": {},
   "outputs": [],
   "source": [
    "model = load_model('brain_tumor_model.h5')"
   ]
  },
  {
   "cell_type": "code",
   "execution_count": 4,
   "metadata": {},
   "outputs": [],
   "source": [
    "from keras.preprocessing import image\n",
    "import numpy as np"
   ]
  },
  {
   "cell_type": "code",
   "execution_count": 5,
   "metadata": {},
   "outputs": [],
   "source": [
    "\n",
    "def predict(final_path):\n",
    "            # dimensions of our images    -----   are these then grayscale (black and white)?\n",
    "            img_width, img_height = 224,224\n",
    "\n",
    "                    # Get test image ready\n",
    "            test_image = image.load_img(final_path, target_size=(img_width, img_height))\n",
    "            test_image = image.img_to_array(test_image)\n",
    "            test_image = np.expand_dims(test_image, axis=0)\n",
    "\n",
    "            test_image = test_image.reshape(1,img_width, img_height,3)    # Ambiguity!\n",
    "                    # Should this instead be: test_image.reshape(img_width, img_height, 3) ??\n",
    "\n",
    "            result = model.predict(test_image, batch_size=1)\n",
    "\n",
    "            y_pred=model.predict(test_image, batch_size=1)\n",
    "\n",
    "            y_classes = y_pred.argmax(axis=-1)\n",
    "            \n",
    "            if y_classes == 0:\n",
    "                return \"Glioma\"\n",
    "            if y_classes == 1:\n",
    "                return \"Meningioma\"\n",
    "            else:\n",
    "                return \"Pituitary\"\n"
   ]
  },
  {
   "cell_type": "code",
   "execution_count": null,
   "metadata": {},
   "outputs": [],
   "source": []
  },
  {
   "cell_type": "code",
   "execution_count": null,
   "metadata": {},
   "outputs": [],
   "source": []
  },
  {
   "cell_type": "code",
   "execution_count": null,
   "metadata": {},
   "outputs": [],
   "source": []
  },
  {
   "cell_type": "code",
   "execution_count": null,
   "metadata": {},
   "outputs": [],
   "source": []
  },
  {
   "cell_type": "code",
   "execution_count": null,
   "metadata": {},
   "outputs": [],
   "source": []
  },
  {
   "cell_type": "code",
   "execution_count": null,
   "metadata": {},
   "outputs": [],
   "source": []
  }
 ],
 "metadata": {
  "kernelspec": {
   "display_name": "Python 3",
   "language": "python",
   "name": "python3"
  },
  "language_info": {
   "codemirror_mode": {
    "name": "ipython",
    "version": 3
   },
   "file_extension": ".py",
   "mimetype": "text/x-python",
   "name": "python",
   "nbconvert_exporter": "python",
   "pygments_lexer": "ipython3",
   "version": "3.7.7"
  }
 },
 "nbformat": 4,
 "nbformat_minor": 4
}
