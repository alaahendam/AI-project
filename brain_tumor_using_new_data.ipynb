{
  "nbformat": 4,
  "nbformat_minor": 0,
  "metadata": {
    "colab": {
      "name": "brain tumor using new data.ipynb",
      "provenance": [],
      "collapsed_sections": [],
      "include_colab_link": true
    },
    "kernelspec": {
      "name": "python3",
      "display_name": "Python 3"
    },
    "accelerator": "GPU"
  },
  "cells": [
    {
      "cell_type": "markdown",
      "metadata": {
        "id": "view-in-github",
        "colab_type": "text"
      },
      "source": [
        "<a href=\"https://colab.research.google.com/github/alaahendam/AI-project/blob/master/brain_tumor_using_new_data.ipynb\" target=\"_parent\"><img src=\"https://colab.research.google.com/assets/colab-badge.svg\" alt=\"Open In Colab\"/></a>"
      ]
    },
    {
      "cell_type": "markdown",
      "metadata": {
        "id": "XEKpNEByrTCh",
        "colab_type": "text"
      },
      "source": [
        "The data for this project is available at: https://figshare.com/articles/brain_tumor_dataset/1512427"
      ]
    },
    {
      "cell_type": "code",
      "metadata": {
        "id": "vcy_T1f6rAnV",
        "colab_type": "code",
        "outputId": "e5d1577f-1888-49b4-e9a3-10ac5ce435db",
        "colab": {
          "base_uri": "https://localhost:8080/",
          "height": 225
        }
      },
      "source": [
        "!wget --no-check-certificate \\\n",
        "    \"https://ndownloader.figshare.com/articles/1512427/versions/5\" \\\n",
        "    -O \"/tmp/brain tumor\""
      ],
      "execution_count": 0,
      "outputs": [
        {
          "output_type": "stream",
          "text": [
            "--2020-03-17 23:32:37--  https://ndownloader.figshare.com/articles/1512427/versions/5\n",
            "Resolving ndownloader.figshare.com (ndownloader.figshare.com)... 18.203.214.185, 54.77.175.131, 52.209.237.33, ...\n",
            "Connecting to ndownloader.figshare.com (ndownloader.figshare.com)|18.203.214.185|:443... connected.\n",
            "HTTP request sent, awaiting response... 200 OK\n",
            "Length: 879501695 (839M) [application/zip]\n",
            "Saving to: ‘/tmp/brain tumor’\n",
            "\n",
            "/tmp/brain tumor    100%[===================>] 838.76M  21.1MB/s    in 42s     \n",
            "\n",
            "2020-03-17 23:33:19 (20.1 MB/s) - ‘/tmp/brain tumor’ saved [879501695/879501695]\n",
            "\n"
          ],
          "name": "stdout"
        }
      ]
    },
    {
      "cell_type": "markdown",
      "metadata": {
        "id": "s3wgmJWErzKI",
        "colab_type": "text"
      },
      "source": [
        "extract all data from brain tumor zip file"
      ]
    },
    {
      "cell_type": "code",
      "metadata": {
        "id": "nZ361cz2rRfm",
        "colab_type": "code",
        "outputId": "79e780c4-b8bb-4b4b-f8ef-60883bc7bedf",
        "colab": {
          "base_uri": "https://localhost:8080/",
          "height": 36
        }
      },
      "source": [
        "from zipfile import ZipFile\n",
        "file_name=\"/tmp/brain tumor\"\n",
        "with ZipFile(file_name , \"r\")as zip2:\n",
        "  zip2.extractall()\n",
        "  print(\"done\")"
      ],
      "execution_count": 0,
      "outputs": [
        {
          "output_type": "stream",
          "text": [
            "done\n"
          ],
          "name": "stdout"
        }
      ]
    },
    {
      "cell_type": "code",
      "metadata": {
        "id": "C725BGpIrRlx",
        "colab_type": "code",
        "outputId": "3e6a6c22-0f2c-4133-9f46-c4e703e023fe",
        "colab": {
          "base_uri": "https://localhost:8080/",
          "height": 92
        }
      },
      "source": [
        "from zipfile import ZipFile\n",
        "import os\n",
        "os.mkdir('data')\n",
        "list_of_files = os.listdir(os.getcwd())\n",
        "for each_file in list_of_files:\n",
        "  if each_file.startswith('brainTumorDataPublic_'):\n",
        "    with ZipFile(each_file , \"r\")as zip3:\n",
        "      zip3.extractall(\"data\")\n",
        "      print(\"done\")"
      ],
      "execution_count": 0,
      "outputs": [
        {
          "output_type": "stream",
          "text": [
            "done\n",
            "done\n",
            "done\n",
            "done\n"
          ],
          "name": "stdout"
        }
      ]
    },
    {
      "cell_type": "code",
      "metadata": {
        "id": "JJ9T5inHrRrU",
        "colab_type": "code",
        "outputId": "90bb6a3c-ba6d-4f42-ae19-900975a6b7d5",
        "colab": {
          "base_uri": "https://localhost:8080/",
          "height": 36
        }
      },
      "source": [
        "print(len(os.listdir('data')))"
      ],
      "execution_count": 0,
      "outputs": [
        {
          "output_type": "stream",
          "text": [
            "3064\n"
          ],
          "name": "stdout"
        }
      ]
    },
    {
      "cell_type": "markdown",
      "metadata": {
        "id": "D7BPcs6LtJvo",
        "colab_type": "text"
      },
      "source": [
        "convert matlab data to jpg image and label it"
      ]
    },
    {
      "cell_type": "code",
      "metadata": {
        "id": "nKpj8LQKrRjx",
        "colab_type": "code",
        "colab": {}
      },
      "source": [
        "try:\n",
        "    os.mkdir('img_data')\n",
        "    os.mkdir('img_data/meningioma')\n",
        "    os.mkdir('img_data/glioma')\n",
        "    os.mkdir('img_data/pituitary_tumor')\n",
        "except OSError:\n",
        "    pass"
      ],
      "execution_count": 0,
      "outputs": []
    },
    {
      "cell_type": "markdown",
      "metadata": {
        "id": "LLG2laixt0PF",
        "colab_type": "text"
      },
      "source": [
        "this function i made to convert mat file in image file with label"
      ]
    },
    {
      "cell_type": "code",
      "metadata": {
        "id": "EvddojU7tgIq",
        "colab_type": "code",
        "colab": {}
      },
      "source": [
        "import matplotlib.pyplot as plt\n",
        "import numpy as np\n",
        "import h5py\n",
        "from PIL import Image\n",
        "\n",
        "def convert(path , i):\n",
        "      folder_name = 'img_data/'\n",
        "      f = h5py.File(path, 'r') \n",
        "\n",
        "      cjdata = f['cjdata'] \n",
        "\n",
        "      image = np.array(cjdata.get('image')).astype(np.float64) \n",
        "\n",
        "      label = cjdata.get('label')[0,0] \n",
        "\n",
        "      f.close()\n",
        "      hi = np.max(image)\n",
        "      lo = np.min(image)\n",
        "      image = (((image - lo)/(hi-lo))*255).astype(np.uint8)\n",
        "\n",
        "      im = Image.fromarray(image)\n",
        "      if label == 1:\n",
        "            im.save(folder_name+'meningioma/'+str(i)+'.jpg') \n",
        "      elif label == 2:\n",
        "            im.save(folder_name+'glioma/'+str(i)+'.jpg')    \n",
        "      elif label == 3:\n",
        "            im.save(folder_name+'pituitary_tumor/'+str(i)+'.jpg') "
      ],
      "execution_count": 0,
      "outputs": []
    },
    {
      "cell_type": "code",
      "metadata": {
        "id": "QUJHAxoEtyyk",
        "colab_type": "code",
        "colab": {}
      },
      "source": [
        "IMG_PATH = 'data/'\n",
        "i = 0\n",
        "# split the data by train/val/test\n",
        "for file in os.listdir(IMG_PATH):\n",
        "    if not file.startswith('.'):\n",
        "        convert(IMG_PATH + '/' + file , i)\n",
        "        i += 1"
      ],
      "execution_count": 0,
      "outputs": []
    },
    {
      "cell_type": "code",
      "metadata": {
        "id": "7sH36WQeuFF3",
        "colab_type": "code",
        "outputId": "366c1acd-2667-4f5a-f232-8ed672492007",
        "colab": {
          "base_uri": "https://localhost:8080/",
          "height": 74
        }
      },
      "source": [
        "print(len(os.listdir('img_data/meningioma')))\n",
        "print(len(os.listdir('img_data/glioma')))\n",
        "print(len(os.listdir('img_data/pituitary_tumor')))"
      ],
      "execution_count": 0,
      "outputs": [
        {
          "output_type": "stream",
          "text": [
            "708\n",
            "1426\n",
            "930\n"
          ],
          "name": "stdout"
        }
      ]
    },
    {
      "cell_type": "code",
      "metadata": {
        "id": "-kFRYKwqwwDr",
        "colab_type": "code",
        "colab": {}
      },
      "source": [
        "try:\n",
        "    os.mkdir('TRAIN')\n",
        "    os.mkdir('TRAIN/meningioma')\n",
        "    os.mkdir('TRAIN/glioma')\n",
        "    os.mkdir('TRAIN/pituitary_tumor')\n",
        "    os.mkdir('TEST')\n",
        "    os.mkdir('TEST/meningioma')\n",
        "    os.mkdir('TEST/glioma')\n",
        "    os.mkdir('TEST/pituitary_tumor')\n",
        "    os.mkdir('VAL')\n",
        "    os.mkdir('VAL/meningioma')\n",
        "    os.mkdir('VAL/glioma')\n",
        "    os.mkdir('VAL/pituitary_tumor')\n",
        "except OSError:\n",
        "    pass"
      ],
      "execution_count": 0,
      "outputs": []
    },
    {
      "cell_type": "markdown",
      "metadata": {
        "id": "rKEf5G8EyzoU",
        "colab_type": "text"
      },
      "source": [
        "we equalize the amount of images that are used to train the CNN for each class or type of tumors. Out of all available images, we only used 700 images from each class where 500 of those images were used for training phase and the other 150 images were used for validation phase and the other 150 images were used for testing phase like this [paper](https://link.springer.com/chapter/10.1007/978-981-10-9035-6_33?fbclid=IwAR2lMgRjg024v9man9XFGvv2Q26yi7CPZkX4yBV1nONKq1CazjFCDg9-yKI)"
      ]
    },
    {
      "cell_type": "code",
      "metadata": {
        "id": "UntHrRfBxBrE",
        "colab_type": "code",
        "colab": {}
      },
      "source": [
        "import shutil\n",
        "IMG_PATH = 'img_data/'\n",
        "# split the data by train/val/test\n",
        "for CLASS in os.listdir(IMG_PATH):\n",
        "    if not CLASS.startswith('.'):\n",
        "        IMG_NUM = len(os.listdir(IMG_PATH + CLASS))\n",
        "        for (n, FILE_NAME) in enumerate(os.listdir(IMG_PATH + CLASS)):\n",
        "            img = IMG_PATH + CLASS + '/' + FILE_NAME\n",
        "            if n < 50:\n",
        "                shutil.copy(img, 'TEST/' + CLASS + '/' + FILE_NAME)\n",
        "            elif n < 550:\n",
        "                shutil.copy(img, 'TRAIN/'+ CLASS + '/' + FILE_NAME)\n",
        "            elif n < 700:\n",
        "                shutil.copy(img, 'VAL/'+ CLASS+ '/' + FILE_NAME)"
      ],
      "execution_count": 0,
      "outputs": []
    },
    {
      "cell_type": "code",
      "metadata": {
        "id": "-TANparWxptU",
        "colab_type": "code",
        "outputId": "a9cb970b-5852-485b-a9e6-0685cd2777a8",
        "colab": {
          "base_uri": "https://localhost:8080/",
          "height": 74
        }
      },
      "source": [
        "print(len(os.listdir('TRAIN/meningioma')))\n",
        "print(len(os.listdir('TEST/meningioma')))\n",
        "print(len(os.listdir('VAL/meningioma')))"
      ],
      "execution_count": 0,
      "outputs": [
        {
          "output_type": "stream",
          "text": [
            "500\n",
            "50\n",
            "150\n"
          ],
          "name": "stdout"
        }
      ]
    },
    {
      "cell_type": "markdown",
      "metadata": {
        "id": "-DlfYWfCv7oG",
        "colab_type": "text"
      },
      "source": [
        "The first step of \"normalization\" would be to crop the brain out of the images. I used technique which was perfectly described in [pyimagesearch](https://www.pyimagesearch.com/2016/04/11/finding-extreme-points-in-contours-with-opencv/) blog and I highly suggest to looks deeper into it."
      ]
    },
    {
      "cell_type": "code",
      "metadata": {
        "id": "D2pNh7TWu7GE",
        "colab_type": "code",
        "colab": {}
      },
      "source": [
        "def crop_imgs(path):\n",
        "      img = cv2.imread(path)\n",
        "      img = cv2.resize(\n",
        "                  img,\n",
        "                  dsize=IMG_SIZE,\n",
        "                  interpolation=cv2.INTER_CUBIC\n",
        "              )\n",
        "      gray = cv2.cvtColor(img, cv2.COLOR_RGB2GRAY)\n",
        "      gray = cv2.GaussianBlur(gray, (5, 5), 0)\n",
        "\n",
        "      # threshold the image, then perform a series of erosions +\n",
        "      # dilations to remove any small regions of noise\n",
        "      thresh = cv2.threshold(gray, 45, 255, cv2.THRESH_BINARY)[1]\n",
        "      thresh = cv2.erode(thresh, None, iterations=2)\n",
        "      thresh = cv2.dilate(thresh, None, iterations=2)\n",
        "\n",
        "      # find contours in thresholded image, then grab the largest one\n",
        "      cnts = cv2.findContours(thresh.copy(), cv2.RETR_EXTERNAL, cv2.CHAIN_APPROX_SIMPLE)\n",
        "      cnts = imutils.grab_contours(cnts)\n",
        "      c = max(cnts, key=cv2.contourArea)\n",
        "\n",
        "      # find the extreme points\n",
        "      extLeft = tuple(c[c[:, :, 0].argmin()][0])\n",
        "      extRight = tuple(c[c[:, :, 0].argmax()][0])\n",
        "      extTop = tuple(c[c[:, :, 1].argmin()][0])\n",
        "      extBot = tuple(c[c[:, :, 1].argmax()][0])\n",
        "\n",
        "\n",
        "      # crop\n",
        "      ADD_PIXELS = 0\n",
        "      new_img = img[extTop[1]-ADD_PIXELS:extBot[1]+ADD_PIXELS, extLeft[0]-ADD_PIXELS:extRight[0]+ADD_PIXELS].copy()\n",
        "      return new_img "
      ],
      "execution_count": 0,
      "outputs": []
    },
    {
      "cell_type": "code",
      "metadata": {
        "id": "Lk-s6aCyx_9o",
        "colab_type": "code",
        "colab": {}
      },
      "source": [
        "try:\n",
        "    os.mkdir('CROP_TRAIN')\n",
        "    os.mkdir('CROP_TRAIN/meningioma')\n",
        "    os.mkdir('CROP_TRAIN/glioma')\n",
        "    os.mkdir('CROP_TRAIN/pituitary_tumor')\n",
        "    os.mkdir('CROP_TEST')\n",
        "    os.mkdir('CROP_TEST/meningioma')\n",
        "    os.mkdir('CROP_TEST/glioma')\n",
        "    os.mkdir('CROP_TEST/pituitary_tumor')\n",
        "    os.mkdir('CROP_VAL')\n",
        "    os.mkdir('CROP_VAL/meningioma')\n",
        "    os.mkdir('CROP_VAL/glioma')\n",
        "    os.mkdir('CROP_VAL/pituitary_tumor')\n",
        "except OSError:\n",
        "    pass"
      ],
      "execution_count": 0,
      "outputs": []
    },
    {
      "cell_type": "code",
      "metadata": {
        "id": "xYmO4gLD0jsj",
        "colab_type": "code",
        "outputId": "5f17075c-086b-4b17-9cc6-51154eaa2b07",
        "colab": {
          "base_uri": "https://localhost:8080/",
          "height": 36
        }
      },
      "source": [
        "!pip install imutils\n",
        "import shutil\n",
        "import cv2\n",
        "import imutils\n",
        "IMG_SIZE = (224,224)\n",
        "TRAIN_IMG_PATH = 'TRAIN/'\n",
        "TEST_IMG_PATH = 'TEST/'\n",
        "VAL_IMG_PATH = 'VAL/'\n",
        "# split the data by train/val/test\n",
        "for CLASS in os.listdir(TRAIN_IMG_PATH):\n",
        "    if not CLASS.startswith('.'):\n",
        "        IMG_NUM = len(os.listdir(TRAIN_IMG_PATH + CLASS))\n",
        "        for (n, FILE_NAME) in enumerate(os.listdir(TRAIN_IMG_PATH + CLASS)):\n",
        "            img = TRAIN_IMG_PATH + CLASS + '/' + FILE_NAME\n",
        "            X_train_crop = crop_imgs(path=img)\n",
        "            cv2.imwrite('CROP_TRAIN/' + CLASS + '/' + FILE_NAME, X_train_crop)\n",
        "\n",
        "\n",
        "for CLASS in os.listdir(TEST_IMG_PATH):\n",
        "    if not CLASS.startswith('.'):\n",
        "        IMG_NUM = len(os.listdir(TEST_IMG_PATH + CLASS))\n",
        "        for (n, FILE_NAME) in enumerate(os.listdir(TEST_IMG_PATH + CLASS)):\n",
        "            img = TEST_IMG_PATH + CLASS + '/' + FILE_NAME\n",
        "            X_train_crop = crop_imgs(path=img)\n",
        "            cv2.imwrite('CROP_TEST/' + CLASS + '/' + FILE_NAME, X_train_crop)\n",
        "\n",
        "\n",
        "for CLASS in os.listdir(VAL_IMG_PATH):\n",
        "    if not CLASS.startswith('.'):\n",
        "        IMG_NUM = len(os.listdir(VAL_IMG_PATH + CLASS))\n",
        "        for (n, FILE_NAME) in enumerate(os.listdir(VAL_IMG_PATH + CLASS)):\n",
        "            img = VAL_IMG_PATH + CLASS + '/' + FILE_NAME\n",
        "            X_train_crop = crop_imgs(path=img)\n",
        "            cv2.imwrite('CROP_VAL/' + CLASS + '/' + FILE_NAME, X_train_crop)                                    "
      ],
      "execution_count": 0,
      "outputs": [
        {
          "output_type": "stream",
          "text": [
            "Requirement already satisfied: imutils in /usr/local/lib/python3.6/dist-packages (0.5.3)\n"
          ],
          "name": "stdout"
        }
      ]
    },
    {
      "cell_type": "code",
      "metadata": {
        "id": "KX6ftsTk4lIC",
        "colab_type": "code",
        "outputId": "6184bdba-0bba-4dbd-db27-d65fe6064be8",
        "colab": {
          "base_uri": "https://localhost:8080/",
          "height": 74
        }
      },
      "source": [
        "print(len(os.listdir('CROP_TRAIN/meningioma')))\n",
        "print(len(os.listdir('CROP_TEST/meningioma')))\n",
        "print(len(os.listdir('CROP_VAL/meningioma')))"
      ],
      "execution_count": 0,
      "outputs": [
        {
          "output_type": "stream",
          "text": [
            "500\n",
            "50\n",
            "150\n"
          ],
          "name": "stdout"
        }
      ]
    },
    {
      "cell_type": "code",
      "metadata": {
        "id": "d4Q2hHjL6WjP",
        "colab_type": "code",
        "colab": {}
      },
      "source": [
        "import cv2\n",
        "img = cv2.imread('img_data/pituitary_tumor/1006.jpg')\n",
        "img = cv2.resize(\n",
        "            img,\n",
        "            dsize=(224,224),\n",
        "            interpolation=cv2.INTER_CUBIC\n",
        "        )\n",
        "gray = cv2.cvtColor(img, cv2.COLOR_RGB2GRAY)\n",
        "gray = cv2.GaussianBlur(gray, (5, 5), 0)\n",
        "\n",
        "# threshold the image, then perform a series of erosions +\n",
        "# dilations to remove any small regions of noise\n",
        "thresh = cv2.threshold(gray, 45, 255, cv2.THRESH_BINARY)[1]\n",
        "thresh = cv2.erode(thresh, None, iterations=2)\n",
        "thresh = cv2.dilate(thresh, None, iterations=2)\n",
        "\n",
        "# find contours in thresholded image, then grab the largest one\n",
        "cnts = cv2.findContours(thresh.copy(), cv2.RETR_EXTERNAL, cv2.CHAIN_APPROX_SIMPLE)\n",
        "cnts = imutils.grab_contours(cnts)\n",
        "c = max(cnts, key=cv2.contourArea)\n",
        "\n",
        "# find the extreme points\n",
        "extLeft = tuple(c[c[:, :, 0].argmin()][0])\n",
        "extRight = tuple(c[c[:, :, 0].argmax()][0])\n",
        "extTop = tuple(c[c[:, :, 1].argmin()][0])\n",
        "extBot = tuple(c[c[:, :, 1].argmax()][0])\n",
        "\n",
        "# add contour on the image\n",
        "img_cnt = cv2.drawContours(img.copy(), [c], -1, (0, 255, 255), 4)\n",
        "\n",
        "# add extreme points\n",
        "img_pnt = cv2.circle(img_cnt.copy(), extLeft, 8, (0, 0, 255), -1)\n",
        "img_pnt = cv2.circle(img_pnt, extRight, 8, (0, 255, 0), -1)\n",
        "img_pnt = cv2.circle(img_pnt, extTop, 8, (255, 0, 0), -1)\n",
        "img_pnt = cv2.circle(img_pnt, extBot, 8, (255, 255, 0), -1)\n",
        "\n",
        "# crop\n",
        "ADD_PIXELS = 0\n",
        "new_img = img[extTop[1]-ADD_PIXELS:extBot[1]+ADD_PIXELS, extLeft[0]-ADD_PIXELS:extRight[0]+ADD_PIXELS].copy()"
      ],
      "execution_count": 0,
      "outputs": []
    },
    {
      "cell_type": "code",
      "metadata": {
        "id": "uctLNnL26Wr8",
        "colab_type": "code",
        "outputId": "eeb81177-ca62-49bd-c12c-818340563401",
        "colab": {
          "base_uri": "https://localhost:8080/",
          "height": 232
        }
      },
      "source": [
        "plt.figure(figsize=(15,6))\n",
        "plt.subplot(141)\n",
        "plt.imshow(img)\n",
        "plt.xticks([])\n",
        "plt.yticks([])\n",
        "plt.title('Step 1. Get the original image')\n",
        "plt.subplot(142)\n",
        "plt.imshow(img_cnt)\n",
        "plt.xticks([])\n",
        "plt.yticks([])\n",
        "plt.title('Step 2. Find the biggest contour')\n",
        "plt.subplot(143)\n",
        "plt.imshow(img_pnt)\n",
        "plt.xticks([])\n",
        "plt.yticks([])\n",
        "plt.title('Step 3. Find the extreme points')\n",
        "plt.subplot(144)\n",
        "plt.imshow(new_img)\n",
        "plt.xticks([])\n",
        "plt.yticks([])\n",
        "plt.title('Step 4. Crop the image')\n",
        "plt.show()"
      ],
      "execution_count": 0,
      "outputs": [
        {
          "output_type": "display_data",
          "data": {
            "image/png": "[encoded data removed]",
            "text/plain": [
              "<Figure size 1080x432 with 4 Axes>"
            ]
          },
          "metadata": {
            "tags": []
          }
        }
      ]
    },
    {
      "cell_type": "code",
      "metadata": {
        "id": "EheMES3i7Pm9",
        "colab_type": "code",
        "outputId": "5dbac175-878b-44ee-f884-01feb6d3bb2b",
        "colab": {
          "base_uri": "https://localhost:8080/",
          "height": 84
        }
      },
      "source": [
        "from keras import models\n",
        "from keras import layers\n",
        "from keras import optimizers\n",
        "import tensorflow as tf\n",
        "from tensorflow.keras.optimizers import RMSprop\n",
        "from tensorflow.keras.preprocessing.image import ImageDataGenerator"
      ],
      "execution_count": 0,
      "outputs": [
        {
          "output_type": "stream",
          "text": [
            "Using TensorFlow backend.\n"
          ],
          "name": "stderr"
        },
        {
          "output_type": "display_data",
          "data": {
            "text/html": [
              "<p style=\"color: red;\">\n",
              "The default version of TensorFlow in Colab will soon switch to TensorFlow 2.x.<br>\n",
              "We recommend you <a href=\"https://www.tensorflow.org/guide/migrate\" target=\"_blank\">upgrade</a> now \n",
              "or ensure your notebook will continue to use TensorFlow 1.x via the <code>%tensorflow_version 1.x</code> magic:\n",
              "<a href=\"https://colab.research.google.com/notebooks/tensorflow_version.ipynb\" target=\"_blank\">more info</a>.</p>\n"
            ],
            "text/plain": [
              "<IPython.core.display.HTML object>"
            ]
          },
          "metadata": {
            "tags": []
          }
        }
      ]
    },
    {
      "cell_type": "code",
      "metadata": {
        "id": "p46bt9a5AEDO",
        "colab_type": "code",
        "outputId": "8cb66ae1-4d0a-4d0f-d8b7-dda8ad211521",
        "colab": {
          "base_uri": "https://localhost:8080/",
          "height": 55
        }
      },
      "source": [
        "TRAINING_DIR = \"CROP_TRAIN/\"\n",
        "train_datagen = ImageDataGenerator(rescale = 1./255.,\n",
        "                                   rotation_range = 15,\n",
        "                                   width_shift_range = 0.1,\n",
        "                                   height_shift_range = 0.1,\n",
        "                                   shear_range = 0.1,\n",
        "                                   zoom_range = 0.2,\n",
        "                                   horizontal_flip = True,\n",
        "                                   brightness_range=[0.5, 1.5],\n",
        "                                   vertical_flip=True,)\n",
        "train_generator = train_datagen.flow_from_directory(TRAINING_DIR,\n",
        "                                                    color_mode='rgb',\n",
        "                                                    batch_size=50,\n",
        "                                                    class_mode='categorical',\n",
        "                                                    target_size=(224,224))\n",
        "\n",
        "\n",
        "VALIDATION_DIR = \"CROP_VAL/\"\n",
        "validation_datagen = ImageDataGenerator(rescale=1.0/255.)\n",
        "validation_generator = validation_datagen.flow_from_directory(VALIDATION_DIR,\n",
        "                                                              color_mode='rgb',\n",
        "                                                              batch_size=30,\n",
        "                                                              class_mode='categorical',\n",
        "                                                              target_size=(224,224))"
      ],
      "execution_count": 0,
      "outputs": [
        {
          "output_type": "stream",
          "text": [
            "Found 1500 images belonging to 3 classes.\n",
            "Found 450 images belonging to 3 classes.\n"
          ],
          "name": "stdout"
        }
      ]
    },
    {
      "cell_type": "code",
      "metadata": {
        "id": "d0nM8ultEvd1",
        "colab_type": "code",
        "outputId": "4628928a-44aa-4845-f3aa-81f5b2d3d468",
        "colab": {
          "base_uri": "https://localhost:8080/",
          "height": 452
        }
      },
      "source": [
        "from keras.applications.vgg16 import VGG16\n",
        "pre_trained_model3 = VGG16(input_shape=(224,224,3), \n",
        "                                include_top = False,\n",
        "                                weights='imagenet')"
      ],
      "execution_count": 0,
      "outputs": [
        {
          "output_type": "stream",
          "text": [
            "WARNING:tensorflow:From /usr/local/lib/python3.6/dist-packages/keras/backend/tensorflow_backend.py:66: The name tf.get_default_graph is deprecated. Please use tf.compat.v1.get_default_graph instead.\n",
            "\n",
            "WARNING:tensorflow:From /usr/local/lib/python3.6/dist-packages/keras/backend/tensorflow_backend.py:541: The name tf.placeholder is deprecated. Please use tf.compat.v1.placeholder instead.\n",
            "\n",
            "WARNING:tensorflow:From /usr/local/lib/python3.6/dist-packages/keras/backend/tensorflow_backend.py:4432: The name tf.random_uniform is deprecated. Please use tf.random.uniform instead.\n",
            "\n",
            "WARNING:tensorflow:From /usr/local/lib/python3.6/dist-packages/keras/backend/tensorflow_backend.py:4267: The name tf.nn.max_pool is deprecated. Please use tf.nn.max_pool2d instead.\n",
            "\n",
            "Downloading data from https://github.com/fchollet/deep-learning-models/releases/download/v0.1/vgg16_weights_tf_dim_ordering_tf_kernels_notop.h5\n",
            "58892288/58889256 [==============================] - 2s 0us/step\n",
            "WARNING:tensorflow:From /usr/local/lib/python3.6/dist-packages/keras/backend/tensorflow_backend.py:190: The name tf.get_default_session is deprecated. Please use tf.compat.v1.get_default_session instead.\n",
            "\n",
            "WARNING:tensorflow:From /usr/local/lib/python3.6/dist-packages/keras/backend/tensorflow_backend.py:197: The name tf.ConfigProto is deprecated. Please use tf.compat.v1.ConfigProto instead.\n",
            "\n",
            "WARNING:tensorflow:From /usr/local/lib/python3.6/dist-packages/keras/backend/tensorflow_backend.py:203: The name tf.Session is deprecated. Please use tf.compat.v1.Session instead.\n",
            "\n",
            "WARNING:tensorflow:From /usr/local/lib/python3.6/dist-packages/keras/backend/tensorflow_backend.py:207: The name tf.global_variables is deprecated. Please use tf.compat.v1.global_variables instead.\n",
            "\n",
            "WARNING:tensorflow:From /usr/local/lib/python3.6/dist-packages/keras/backend/tensorflow_backend.py:216: The name tf.is_variable_initialized is deprecated. Please use tf.compat.v1.is_variable_initialized instead.\n",
            "\n",
            "WARNING:tensorflow:From /usr/local/lib/python3.6/dist-packages/keras/backend/tensorflow_backend.py:223: The name tf.variables_initializer is deprecated. Please use tf.compat.v1.variables_initializer instead.\n",
            "\n"
          ],
          "name": "stdout"
        }
      ]
    },
    {
      "cell_type": "code",
      "metadata": {
        "id": "rBEhPkpFFRI9",
        "colab_type": "code",
        "colab": {}
      },
      "source": [
        "for layer in pre_trained_model3.layers[:15]:\n",
        "   layer.trainable = False\n",
        "for layer in pre_trained_model3.layers[15:]:\n",
        "   layer.trainable = True"
      ],
      "execution_count": 0,
      "outputs": []
    },
    {
      "cell_type": "code",
      "metadata": {
        "id": "EH4R7bWMFVX3",
        "colab_type": "code",
        "outputId": "ad686f2b-ce3c-4e9d-d5f9-fae989c08407",
        "colab": {
          "base_uri": "https://localhost:8080/",
          "height": 509
        }
      },
      "source": [
        "model3 = models.Sequential()\n",
        "model3.add(pre_trained_model3)\n",
        "model3.add(layers.Dropout(0.3))\n",
        "model3.add(layers.Flatten())\n",
        "model3.add(layers.Dense(128, activation='relu'))\n",
        "model3.add(layers.Dropout(0.5))\n",
        "model3.add(layers.Dense(3, activation='softmax'))\n",
        "\n",
        "model3.summary()"
      ],
      "execution_count": 0,
      "outputs": [
        {
          "output_type": "stream",
          "text": [
            "WARNING:tensorflow:From /usr/local/lib/python3.6/dist-packages/keras/backend/tensorflow_backend.py:148: The name tf.placeholder_with_default is deprecated. Please use tf.compat.v1.placeholder_with_default instead.\n",
            "\n",
            "WARNING:tensorflow:From /usr/local/lib/python3.6/dist-packages/keras/backend/tensorflow_backend.py:3733: calling dropout (from tensorflow.python.ops.nn_ops) with keep_prob is deprecated and will be removed in a future version.\n",
            "Instructions for updating:\n",
            "Please use `rate` instead of `keep_prob`. Rate should be set to `rate = 1 - keep_prob`.\n",
            "Model: \"sequential_1\"\n",
            "_________________________________________________________________\n",
            "Layer (type)                 Output Shape              Param #   \n",
            "=================================================================\n",
            "vgg16 (Model)                (None, 7, 7, 512)         14714688  \n",
            "_________________________________________________________________\n",
            "dropout_1 (Dropout)          (None, 7, 7, 512)         0         \n",
            "_________________________________________________________________\n",
            "flatten_1 (Flatten)          (None, 25088)             0         \n",
            "_________________________________________________________________\n",
            "dense_1 (Dense)              (None, 128)               3211392   \n",
            "_________________________________________________________________\n",
            "dropout_2 (Dropout)          (None, 128)               0         \n",
            "_________________________________________________________________\n",
            "dense_2 (Dense)              (None, 3)                 387       \n",
            "=================================================================\n",
            "Total params: 17,926,467\n",
            "Trainable params: 10,291,203\n",
            "Non-trainable params: 7,635,264\n",
            "_________________________________________________________________\n"
          ],
          "name": "stdout"
        }
      ]
    },
    {
      "cell_type": "code",
      "metadata": {
        "id": "pSs_UoLTFaDF",
        "colab_type": "code",
        "colab": {}
      },
      "source": [
        "model3.compile(loss='categorical_crossentropy', optimizer=optimizers.Adam(lr=0.0002, beta_1=0.9, beta_2=0.999, epsilon=None, decay=0.0, amsgrad=False), metrics=[\"accuracy\"])"
      ],
      "execution_count": 0,
      "outputs": []
    },
    {
      "cell_type": "code",
      "metadata": {
        "id": "h-nsU_aC3t2D",
        "colab_type": "code",
        "colab": {}
      },
      "source": [
        "class myCallback(tf.keras.callbacks.Callback):\n",
        "  def on_epoch_end(self, epoch, logs={}):\n",
        "    if(logs.get('val_acc')>0.95):\n",
        "      print(\"\\nReached 95% accuracy so cancelling training!\")\n",
        "      self.model3.stop_training = True"
      ],
      "execution_count": 0,
      "outputs": []
    },
    {
      "cell_type": "code",
      "metadata": {
        "id": "HyCoBmC05rsG",
        "colab_type": "code",
        "colab": {}
      },
      "source": [
        "callbacks = myCallback()"
      ],
      "execution_count": 0,
      "outputs": []
    },
    {
      "cell_type": "markdown",
      "metadata": {
        "id": "5nbDsvNyJwnn",
        "colab_type": "text"
      },
      "source": [
        "after 20 epochs i decrease learning rate from 0.0003 to 0.0002"
      ]
    },
    {
      "cell_type": "code",
      "metadata": {
        "id": "pIJnNkz5Fnxi",
        "colab_type": "code",
        "outputId": "c69467d9-4e8d-4e80-9b10-9c2fa606e72d",
        "colab": {
          "base_uri": "https://localhost:8080/",
          "height": 919
        }
      },
      "source": [
        "history = model3.fit_generator(\n",
        "            train_generator,\n",
        "            validation_data = validation_generator,\n",
        "            steps_per_epoch = 60,\n",
        "            epochs = 20,\n",
        "            validation_steps = 40,\n",
        "            callbacks=[callbacks])"
      ],
      "execution_count": 0,
      "outputs": [
        {
          "output_type": "stream",
          "text": [
            "Epoch 1/20\n",
            "60/60 [==============================] - 43s 709ms/step - loss: 0.1604 - acc: 0.9410 - val_loss: 0.2473 - val_acc: 0.9225\n",
            "Epoch 2/20\n",
            "60/60 [==============================] - 41s 676ms/step - loss: 0.1346 - acc: 0.9540 - val_loss: 0.2412 - val_acc: 0.9358\n",
            "Epoch 3/20\n",
            "60/60 [==============================] - 41s 677ms/step - loss: 0.1271 - acc: 0.9527 - val_loss: 0.2238 - val_acc: 0.9342\n",
            "Epoch 4/20\n",
            "60/60 [==============================] - 41s 682ms/step - loss: 0.1226 - acc: 0.9503 - val_loss: 0.2428 - val_acc: 0.9458\n",
            "Epoch 5/20\n",
            "60/60 [==============================] - 41s 682ms/step - loss: 0.1269 - acc: 0.9500 - val_loss: 0.2575 - val_acc: 0.9317\n",
            "Epoch 6/20\n",
            "60/60 [==============================] - 41s 683ms/step - loss: 0.1199 - acc: 0.9577 - val_loss: 0.3025 - val_acc: 0.9275\n",
            "Epoch 7/20\n",
            "60/60 [==============================] - 41s 690ms/step - loss: 0.1022 - acc: 0.9623 - val_loss: 0.2273 - val_acc: 0.9417\n",
            "Epoch 8/20\n",
            "60/60 [==============================] - 41s 683ms/step - loss: 0.1040 - acc: 0.9633 - val_loss: 0.2751 - val_acc: 0.9267\n",
            "Epoch 9/20\n",
            "60/60 [==============================] - 41s 677ms/step - loss: 0.1117 - acc: 0.9603 - val_loss: 0.2080 - val_acc: 0.9433\n",
            "Epoch 10/20\n",
            "60/60 [==============================] - 41s 689ms/step - loss: 0.0757 - acc: 0.9737 - val_loss: 0.3131 - val_acc: 0.9400\n",
            "Epoch 11/20\n",
            "60/60 [==============================] - 41s 689ms/step - loss: 0.1001 - acc: 0.9660 - val_loss: 0.1906 - val_acc: 0.9333\n",
            "Epoch 12/20\n",
            "60/60 [==============================] - 41s 678ms/step - loss: 0.0775 - acc: 0.9707 - val_loss: 0.2421 - val_acc: 0.9450\n",
            "Epoch 13/20\n",
            "60/60 [==============================] - 41s 682ms/step - loss: 0.0814 - acc: 0.9717 - val_loss: 0.3169 - val_acc: 0.9183\n",
            "Epoch 14/20\n",
            "60/60 [==============================] - 41s 687ms/step - loss: 0.0758 - acc: 0.9723 - val_loss: 0.1939 - val_acc: 0.9517\n",
            "\n",
            "Reached 95% accuracy so cancelling training!\n"
          ],
          "name": "stdout"
        },
        {
          "output_type": "error",
          "ename": "AttributeError",
          "evalue": "ignored",
          "traceback": [
            "\u001b[0;31m---------------------------------------------------------------------------\u001b[0m",
            "\u001b[0;31mAttributeError\u001b[0m                            Traceback (most recent call last)",
            "\u001b[0;32m<ipython-input-30-b6428b187697>\u001b[0m in \u001b[0;36m<module>\u001b[0;34m()\u001b[0m\n\u001b[1;32m      5\u001b[0m             \u001b[0mepochs\u001b[0m \u001b[0;34m=\u001b[0m \u001b[0;36m20\u001b[0m\u001b[0;34m,\u001b[0m\u001b[0;34m\u001b[0m\u001b[0;34m\u001b[0m\u001b[0m\n\u001b[1;32m      6\u001b[0m             \u001b[0mvalidation_steps\u001b[0m \u001b[0;34m=\u001b[0m \u001b[0;36m40\u001b[0m\u001b[0;34m,\u001b[0m\u001b[0;34m\u001b[0m\u001b[0;34m\u001b[0m\u001b[0m\n\u001b[0;32m----> 7\u001b[0;31m             callbacks=[callbacks])\n\u001b[0m",
            "\u001b[0;32m/usr/local/lib/python3.6/dist-packages/keras/legacy/interfaces.py\u001b[0m in \u001b[0;36mwrapper\u001b[0;34m(*args, **kwargs)\u001b[0m\n\u001b[1;32m     89\u001b[0m                 warnings.warn('Update your `' + object_name + '` call to the ' +\n\u001b[1;32m     90\u001b[0m                               'Keras 2 API: ' + signature, stacklevel=2)\n\u001b[0;32m---> 91\u001b[0;31m             \u001b[0;32mreturn\u001b[0m \u001b[0mfunc\u001b[0m\u001b[0;34m(\u001b[0m\u001b[0;34m*\u001b[0m\u001b[0margs\u001b[0m\u001b[0;34m,\u001b[0m \u001b[0;34m**\u001b[0m\u001b[0mkwargs\u001b[0m\u001b[0;34m)\u001b[0m\u001b[0;34m\u001b[0m\u001b[0;34m\u001b[0m\u001b[0m\n\u001b[0m\u001b[1;32m     92\u001b[0m         \u001b[0mwrapper\u001b[0m\u001b[0;34m.\u001b[0m\u001b[0m_original_function\u001b[0m \u001b[0;34m=\u001b[0m \u001b[0mfunc\u001b[0m\u001b[0;34m\u001b[0m\u001b[0;34m\u001b[0m\u001b[0m\n\u001b[1;32m     93\u001b[0m         \u001b[0;32mreturn\u001b[0m \u001b[0mwrapper\u001b[0m\u001b[0;34m\u001b[0m\u001b[0;34m\u001b[0m\u001b[0m\n",
            "\u001b[0;32m/usr/local/lib/python3.6/dist-packages/keras/engine/training.py\u001b[0m in \u001b[0;36mfit_generator\u001b[0;34m(self, generator, steps_per_epoch, epochs, verbose, callbacks, validation_data, validation_steps, validation_freq, class_weight, max_queue_size, workers, use_multiprocessing, shuffle, initial_epoch)\u001b[0m\n\u001b[1;32m   1656\u001b[0m             \u001b[0muse_multiprocessing\u001b[0m\u001b[0;34m=\u001b[0m\u001b[0muse_multiprocessing\u001b[0m\u001b[0;34m,\u001b[0m\u001b[0;34m\u001b[0m\u001b[0;34m\u001b[0m\u001b[0m\n\u001b[1;32m   1657\u001b[0m             \u001b[0mshuffle\u001b[0m\u001b[0;34m=\u001b[0m\u001b[0mshuffle\u001b[0m\u001b[0;34m,\u001b[0m\u001b[0;34m\u001b[0m\u001b[0;34m\u001b[0m\u001b[0m\n\u001b[0;32m-> 1658\u001b[0;31m             initial_epoch=initial_epoch)\n\u001b[0m\u001b[1;32m   1659\u001b[0m \u001b[0;34m\u001b[0m\u001b[0m\n\u001b[1;32m   1660\u001b[0m     \u001b[0;34m@\u001b[0m\u001b[0minterfaces\u001b[0m\u001b[0;34m.\u001b[0m\u001b[0mlegacy_generator_methods_support\u001b[0m\u001b[0;34m\u001b[0m\u001b[0;34m\u001b[0m\u001b[0m\n",
            "\u001b[0;32m/usr/local/lib/python3.6/dist-packages/keras/engine/training_generator.py\u001b[0m in \u001b[0;36mfit_generator\u001b[0;34m(model, generator, steps_per_epoch, epochs, verbose, callbacks, validation_data, validation_steps, validation_freq, class_weight, max_queue_size, workers, use_multiprocessing, shuffle, initial_epoch)\u001b[0m\n\u001b[1;32m    253\u001b[0m                     \u001b[0;32mbreak\u001b[0m\u001b[0;34m\u001b[0m\u001b[0;34m\u001b[0m\u001b[0m\n\u001b[1;32m    254\u001b[0m \u001b[0;34m\u001b[0m\u001b[0m\n\u001b[0;32m--> 255\u001b[0;31m             \u001b[0mcallbacks\u001b[0m\u001b[0;34m.\u001b[0m\u001b[0mon_epoch_end\u001b[0m\u001b[0;34m(\u001b[0m\u001b[0mepoch\u001b[0m\u001b[0;34m,\u001b[0m \u001b[0mepoch_logs\u001b[0m\u001b[0;34m)\u001b[0m\u001b[0;34m\u001b[0m\u001b[0;34m\u001b[0m\u001b[0m\n\u001b[0m\u001b[1;32m    256\u001b[0m             \u001b[0mepoch\u001b[0m \u001b[0;34m+=\u001b[0m \u001b[0;36m1\u001b[0m\u001b[0;34m\u001b[0m\u001b[0;34m\u001b[0m\u001b[0m\n\u001b[1;32m    257\u001b[0m             \u001b[0;32mif\u001b[0m \u001b[0mcallbacks\u001b[0m\u001b[0;34m.\u001b[0m\u001b[0mmodel\u001b[0m\u001b[0;34m.\u001b[0m\u001b[0mstop_training\u001b[0m\u001b[0;34m:\u001b[0m\u001b[0;34m\u001b[0m\u001b[0;34m\u001b[0m\u001b[0m\n",
            "\u001b[0;32m/usr/local/lib/python3.6/dist-packages/keras/callbacks.py\u001b[0m in \u001b[0;36mon_epoch_end\u001b[0;34m(self, epoch, logs)\u001b[0m\n\u001b[1;32m    150\u001b[0m         \u001b[0mlogs\u001b[0m \u001b[0;34m=\u001b[0m \u001b[0mlogs\u001b[0m \u001b[0;32mor\u001b[0m \u001b[0;34m{\u001b[0m\u001b[0;34m}\u001b[0m\u001b[0;34m\u001b[0m\u001b[0;34m\u001b[0m\u001b[0m\n\u001b[1;32m    151\u001b[0m         \u001b[0;32mfor\u001b[0m \u001b[0mcallback\u001b[0m \u001b[0;32min\u001b[0m \u001b[0mself\u001b[0m\u001b[0;34m.\u001b[0m\u001b[0mcallbacks\u001b[0m\u001b[0;34m:\u001b[0m\u001b[0;34m\u001b[0m\u001b[0;34m\u001b[0m\u001b[0m\n\u001b[0;32m--> 152\u001b[0;31m             \u001b[0mcallback\u001b[0m\u001b[0;34m.\u001b[0m\u001b[0mon_epoch_end\u001b[0m\u001b[0;34m(\u001b[0m\u001b[0mepoch\u001b[0m\u001b[0;34m,\u001b[0m \u001b[0mlogs\u001b[0m\u001b[0;34m)\u001b[0m\u001b[0;34m\u001b[0m\u001b[0;34m\u001b[0m\u001b[0m\n\u001b[0m\u001b[1;32m    153\u001b[0m \u001b[0;34m\u001b[0m\u001b[0m\n\u001b[1;32m    154\u001b[0m     \u001b[0;32mdef\u001b[0m \u001b[0mon_train_batch_begin\u001b[0m\u001b[0;34m(\u001b[0m\u001b[0mself\u001b[0m\u001b[0;34m,\u001b[0m \u001b[0mbatch\u001b[0m\u001b[0;34m,\u001b[0m \u001b[0mlogs\u001b[0m\u001b[0;34m=\u001b[0m\u001b[0;32mNone\u001b[0m\u001b[0;34m)\u001b[0m\u001b[0;34m:\u001b[0m\u001b[0;34m\u001b[0m\u001b[0;34m\u001b[0m\u001b[0m\n",
            "\u001b[0;32m<ipython-input-28-badc4d22149d>\u001b[0m in \u001b[0;36mon_epoch_end\u001b[0;34m(self, epoch, logs)\u001b[0m\n\u001b[1;32m      3\u001b[0m     \u001b[0;32mif\u001b[0m\u001b[0;34m(\u001b[0m\u001b[0mlogs\u001b[0m\u001b[0;34m.\u001b[0m\u001b[0mget\u001b[0m\u001b[0;34m(\u001b[0m\u001b[0;34m'val_acc'\u001b[0m\u001b[0;34m)\u001b[0m\u001b[0;34m>\u001b[0m\u001b[0;36m0.95\u001b[0m\u001b[0;34m)\u001b[0m\u001b[0;34m:\u001b[0m\u001b[0;34m\u001b[0m\u001b[0;34m\u001b[0m\u001b[0m\n\u001b[1;32m      4\u001b[0m       \u001b[0mprint\u001b[0m\u001b[0;34m(\u001b[0m\u001b[0;34m\"\\nReached 95% accuracy so cancelling training!\"\u001b[0m\u001b[0;34m)\u001b[0m\u001b[0;34m\u001b[0m\u001b[0;34m\u001b[0m\u001b[0m\n\u001b[0;32m----> 5\u001b[0;31m       \u001b[0mself\u001b[0m\u001b[0;34m.\u001b[0m\u001b[0mmodel3\u001b[0m\u001b[0;34m.\u001b[0m\u001b[0mstop_training\u001b[0m \u001b[0;34m=\u001b[0m \u001b[0;32mTrue\u001b[0m\u001b[0;34m\u001b[0m\u001b[0;34m\u001b[0m\u001b[0m\n\u001b[0m",
            "\u001b[0;31mAttributeError\u001b[0m: 'myCallback' object has no attribute 'model3'"
          ]
        }
      ]
    },
    {
      "cell_type": "code",
      "metadata": {
        "id": "ZkF1bJ4a5cv7",
        "colab_type": "code",
        "outputId": "70984950-fdb9-4be8-ee43-c218057fd886",
        "colab": {
          "base_uri": "https://localhost:8080/",
          "height": 545
        }
      },
      "source": [
        "import matplotlib.pyplot as plt\n",
        "\n",
        "acc = history.history['acc']\n",
        "val_acc = history.history['val_acc']\n",
        "loss = history.history['loss']\n",
        "val_loss = history.history['val_loss']\n",
        "\n",
        "epochs = range(len(acc))\n",
        "\n",
        "plt.plot(epochs, acc, 'r', label='Training accuracy')\n",
        "plt.plot(epochs, val_acc, 'b', label='Validation accuracy')\n",
        "plt.title('Training and validation accuracy')\n",
        "plt.legend()\n",
        "plt.figure()\n",
        "\n",
        "plt.plot(epochs, loss, 'r', label='Training Loss')\n",
        "plt.plot(epochs, val_loss, 'b', label='Validation Loss')\n",
        "plt.title('Training and validation loss')\n",
        "\n",
        "plt.show()"
      ],
      "execution_count": 0,
      "outputs": [
        {
          "output_type": "display_data",
          "data": {
            "image/png": "[encoded data removed]",
            "text/plain": [
              "<Figure size 432x288 with 1 Axes>"
            ]
          },
          "metadata": {
            "tags": []
          }
        },
        {
          "output_type": "display_data",
          "data": {
            "image/png": "[encoded data removed]",
            "text/plain": [
              "<Figure size 432x288 with 1 Axes>"
            ]
          },
          "metadata": {
            "tags": []
          }
        }
      ]
    },
    {
      "cell_type": "code",
      "metadata": {
        "id": "WRqkoEfF90fa",
        "colab_type": "code",
        "outputId": "77b4b7be-ad49-4377-f3ef-c4ea23946403",
        "colab": {
          "base_uri": "https://localhost:8080/",
          "height": 36
        }
      },
      "source": [
        "scores = model3.evaluate_generator(validation_generator,workers=12)\n",
        "scores"
      ],
      "execution_count": 0,
      "outputs": [
        {
          "output_type": "execute_result",
          "data": {
            "text/plain": [
              "[0.18195195719599724, 0.953333322207133]"
            ]
          },
          "metadata": {
            "tags": []
          },
          "execution_count": 32
        }
      ]
    },
    {
      "cell_type": "code",
      "metadata": {
        "id": "N6lTFA6T-CSD",
        "colab_type": "code",
        "outputId": "5232c8a2-2435-4b6a-d164-c9852a947cd1",
        "colab": {
          "base_uri": "https://localhost:8080/",
          "height": 36
        }
      },
      "source": [
        "test_data_dir = 'CROP_TEST/'\n",
        "\n",
        "test_datagen = ImageDataGenerator(\n",
        "    rescale=1. / 255)\n",
        "\n",
        "test_generator = test_datagen.flow_from_directory(\n",
        "    test_data_dir,\n",
        "    target_size=(224,224),\n",
        "    batch_size=10,\n",
        "\tshuffle=False,\n",
        "    class_mode='categorical')\n",
        "\n",
        "#Evaluate model on test set\n",
        "scores = model3.evaluate_generator(test_generator,workers=12)"
      ],
      "execution_count": 0,
      "outputs": [
        {
          "output_type": "stream",
          "text": [
            "Found 150 images belonging to 3 classes.\n"
          ],
          "name": "stdout"
        }
      ]
    },
    {
      "cell_type": "code",
      "metadata": {
        "id": "f_JDfhAC-LmV",
        "colab_type": "code",
        "outputId": "8eb7119e-edcc-47af-ce97-70cc533c2f2e",
        "colab": {
          "base_uri": "https://localhost:8080/",
          "height": 36
        }
      },
      "source": [
        "scores"
      ],
      "execution_count": 0,
      "outputs": [
        {
          "output_type": "execute_result",
          "data": {
            "text/plain": [
              "[0.2634944233103132, 0.9666666626930237]"
            ]
          },
          "metadata": {
            "tags": []
          },
          "execution_count": 34
        }
      ]
    },
    {
      "cell_type": "code",
      "metadata": {
        "id": "M9pyMexa-IVU",
        "colab_type": "code",
        "outputId": "c1896247-62a6-4226-dc42-4aaa75ec91d4",
        "colab": {
          "base_uri": "https://localhost:8080/",
          "height": 92
        }
      },
      "source": [
        "test_generator.reset()\n",
        "Y_pred = model3.predict_generator(test_generator)\n",
        "classes = test_generator.classes[test_generator.index_array]\n",
        "y_pred = np.argmax(Y_pred, axis=-1)\n",
        "sum(y_pred==classes)/10000\n",
        "print(sum(y_pred==classes))\n",
        "0.9922\n",
        "\n",
        "from sklearn.metrics import confusion_matrix\n",
        "confusion_matrix(test_generator.classes[test_generator.index_array],y_pred)"
      ],
      "execution_count": 0,
      "outputs": [
        {
          "output_type": "stream",
          "text": [
            "145\n"
          ],
          "name": "stdout"
        },
        {
          "output_type": "execute_result",
          "data": {
            "text/plain": [
              "array([[50,  0,  0],\n",
              "       [ 4, 45,  1],\n",
              "       [ 0,  0, 50]])"
            ]
          },
          "metadata": {
            "tags": []
          },
          "execution_count": 35
        }
      ]
    },
    {
      "cell_type": "code",
      "metadata": {
        "id": "iU5ueKiX-abj",
        "colab_type": "code",
        "outputId": "18d5d954-2171-480d-9316-c33ef65b0760",
        "colab": {
          "base_uri": "https://localhost:8080/",
          "height": 36
        }
      },
      "source": [
        "from keras.preprocessing import image\n",
        "import numpy as np\n",
        "\n",
        "# dimensions of our images    -----   are these then grayscale (black and white)?\n",
        "img_width, img_height = 224,224\n",
        "\n",
        "# Get test image ready\n",
        "test_image = image.load_img('CROP_TEST/glioma/1118.jpg', target_size=(img_width, img_height))\n",
        "test_image = image.img_to_array(test_image)\n",
        "test_image = np.expand_dims(test_image, axis=0)\n",
        "\n",
        "test_image = test_image.reshape(1,img_width, img_height,3)    # Ambiguity!\n",
        "# Should this instead be: test_image.reshape(img_width, img_height, 3) ??\n",
        "\n",
        "result = model3.predict(test_image, batch_size=1)\n",
        "print (result)"
      ],
      "execution_count": 0,
      "outputs": [
        {
          "output_type": "stream",
          "text": [
            "[[1. 0. 0.]]\n"
          ],
          "name": "stdout"
        }
      ]
    },
    {
      "cell_type": "code",
      "metadata": {
        "id": "Fh0Y3ZN0_ODP",
        "colab_type": "code",
        "colab": {}
      },
      "source": [
        "saved_model_path = \"./brain_tumor_model.h5\"\n",
        "model3.save(saved_model_path)"
      ],
      "execution_count": 0,
      "outputs": []
    },
    {
      "cell_type": "code",
      "metadata": {
        "id": "dy3nAgZ0_pd7",
        "colab_type": "code",
        "colab": {}
      },
      "source": [
        ""
      ],
      "execution_count": 0,
      "outputs": []
    }
  ]
}